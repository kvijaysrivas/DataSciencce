{
  "nbformat": 4,
  "nbformat_minor": 0,
  "metadata": {
    "colab": {
      "provenance": [],
      "authorship_tag": "ABX9TyNt/EP1g84ONeUWKCjXE30N",
      "include_colab_link": true
    },
    "kernelspec": {
      "name": "python3",
      "display_name": "Python 3"
    },
    "language_info": {
      "name": "python"
    }
  },
  "cells": [
    {
      "cell_type": "markdown",
      "metadata": {
        "id": "view-in-github",
        "colab_type": "text"
      },
      "source": [
        "<a href=\"https://colab.research.google.com/github/kvijaysrivas/DataSciencce/blob/main/Narrow_cpr.ipynb\" target=\"_parent\"><img src=\"https://colab.research.google.com/assets/colab-badge.svg\" alt=\"Open In Colab\"/></a>"
      ]
    },
    {
      "cell_type": "code",
      "execution_count": 12,
      "metadata": {
        "id": "BxDOYWYoJDp1",
        "colab": {
          "base_uri": "https://localhost:8080/"
        },
        "outputId": "1d923d8f-47b1-4970-ed49-2d4b4f53b4d0"
      },
      "outputs": [
        {
          "output_type": "stream",
          "name": "stdout",
          "text": [
            "Enter previous day's high: 4739\n",
            "Enter previous day's low: 4691\n",
            "Enter previous day's close: 4718\n",
            "CPR for the next day: 4716.0\n",
            "Upper Range: 4729.2\n",
            "Lower Range: 4702.8\n",
            "This is a narrow CPR.\n"
          ]
        }
      ],
      "source": [
        "def calculate_cpr(previous_high, previous_low, previous_close):\n",
        "    CPR = (previous_high + previous_low + previous_close) / 3\n",
        "    return CPR\n",
        "\n",
        "def is_narrow_cpr(previous_high, previous_low, previous_close):\n",
        "    CPR = calculate_cpr(previous_high, previous_low, previous_close)\n",
        "    range_width = previous_high - previous_low\n",
        "    upper_range = CPR + (range_width * 1.1 / 4)\n",
        "    lower_range = CPR - (range_width * 1.1 / 4)\n",
        "\n",
        "    narrow_width_criteria = 35  # Adjust this threshold for what's considered narrow. Currently I have kept it 35 for the Britania\n",
        "\n",
        "    is_narrow = (upper_range - lower_range)< narrow_width_criteria\n",
        "\n",
        "    return is_narrow, CPR, upper_range, lower_range\n",
        "\n",
        "def main():\n",
        "    # Input values for the previous day's high, low, and close\n",
        "    previous_day_high = float(input(\"Enter previous day's high: \"))\n",
        "    previous_day_low = float(input(\"Enter previous day's low: \"))\n",
        "    previous_day_close = float(input(\"Enter previous day's close: \"))\n",
        "\n",
        "    is_narrow, CPR, upper_range, lower_range = is_narrow_cpr(previous_day_high, previous_day_low, previous_day_close)\n",
        "\n",
        "    if is_narrow:\n",
        "        print(f\"CPR for the next day: {CPR}\")\n",
        "        print(f\"Upper Range: {upper_range}\")\n",
        "        print(f\"Lower Range: {lower_range}\")\n",
        "        print(\"This is a narrow CPR.\")\n",
        "    else:\n",
        "        print({is_narrow})\n",
        "        print(f\"CPR for the next day: {CPR}\")\n",
        "        print(f\"Upper Range: {upper_range}\")\n",
        "        print(f\"Lower Range: {lower_range}\")\n",
        "        print(\"This is not a narrow CPR.\")\n",
        "\n",
        "if __name__ == \"__main__\":\n",
        "    main()\n"
      ]
    }
  ]
}