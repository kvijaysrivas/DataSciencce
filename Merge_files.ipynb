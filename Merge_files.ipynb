{
  "nbformat": 4,
  "nbformat_minor": 0,
  "metadata": {
    "colab": {
      "provenance": [],
      "authorship_tag": "ABX9TyMIOhnAIuHCiXs4vcfTPmWU",
      "include_colab_link": true
    },
    "kernelspec": {
      "name": "python3",
      "display_name": "Python 3"
    },
    "language_info": {
      "name": "python"
    }
  },
  "cells": [
    {
      "cell_type": "markdown",
      "metadata": {
        "id": "view-in-github",
        "colab_type": "text"
      },
      "source": [
        "<a href=\"https://colab.research.google.com/github/kvijaysrivas/DataSciencce/blob/main/Merge_files.ipynb\" target=\"_parent\"><img src=\"https://colab.research.google.com/assets/colab-badge.svg\" alt=\"Open In Colab\"/></a>"
      ]
    },
    {
      "cell_type": "code",
      "source": [
        "import pandas as pd\n",
        "\n",
        "# Read the CSV files\n",
        "df1 = pd.read_csv('file1.csv')\n",
        "df2 = pd.read_csv('file2.csv')\n",
        "df3 = pd.read_csv('file3.csv')\n",
        "df4 = pd.read_csv('file4.csv')\n",
        "# Merge CSV files\n",
        "merged_df = pd.concat([df1, df2, df3, df4])\n",
        "merged_df.to_csv('merged_data41.csv', index=False)\n",
        "# Read the CSV file\n",
        "df = pd.read_csv('merged_data41.csv')\n",
        "# Convert string to datetime object\n",
        "df['When'] = pd.to_datetime(df['When'])\n",
        "# Extract only the date part from the datetime object\n",
        "df['When'] = df['When'].dt.date\n",
        "# Write the updated DataFrame back to the same CSV file\n",
        "df.to_csv('merged_data41.csv', index=False)\n",
        "# Remove duplicate rows\n",
        "df5= pd.read_csv('merged_data41.csv')\n",
        "print(df5.columns)\n",
        "columns_to_check = ['EmployeeId', 'CustomerLocationId', 'When']\n",
        "df_no_duplicates = df5.drop_duplicates(subset=columns_to_check, keep='first')\n",
        "#Write the merged and de-duplicated data to a new CSV file\n",
        "df_no_duplicates.to_csv('file_without_duplicates1.csv', index=False)\n",
        "\n"
      ],
      "metadata": {
        "colab": {
          "base_uri": "https://localhost:8080/"
        },
        "outputId": "b9e1f1d6-acf6-4c20-f6fd-c4e76baf8c93",
        "id": "kKoSZKPwXlkp"
      },
      "execution_count": 38,
      "outputs": [
        {
          "output_type": "stream",
          "name": "stdout",
          "text": [
            "Index(['Id', 'EmployeeId', 'CustomerLocationId', 'When'], dtype='object')\n"
          ]
        }
      ]
    }
  ]
}