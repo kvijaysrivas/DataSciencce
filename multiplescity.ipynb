{
  "nbformat": 4,
  "nbformat_minor": 0,
  "metadata": {
    "colab": {
      "provenance": [],
      "authorship_tag": "ABX9TyPhTD+sf3YVDoRDzfQW7tJ5",
      "include_colab_link": true
    },
    "kernelspec": {
      "name": "python3",
      "display_name": "Python 3"
    },
    "language_info": {
      "name": "python"
    }
  },
  "cells": [
    {
      "cell_type": "markdown",
      "metadata": {
        "id": "view-in-github",
        "colab_type": "text"
      },
      "source": [
        "<a href=\"https://colab.research.google.com/github/kvijaysrivas/DataSciencce/blob/main/multiplescity.ipynb\" target=\"_parent\"><img src=\"https://colab.research.google.com/assets/colab-badge.svg\" alt=\"Open In Colab\"/></a>"
      ]
    },
    {
      "cell_type": "code",
      "execution_count": null,
      "metadata": {
        "colab": {
          "base_uri": "https://localhost:8080/"
        },
        "id": "WkJkbeYKqn1p",
        "outputId": "19666920-d3e1-4b5b-ac4e-2a5683398b6e"
      },
      "outputs": [
        {
          "output_type": "stream",
          "name": "stdout",
          "text": [
            "Enter cities separated by commas (e.g., Delhi,Mumbai,Bangalore): indore,bhopal,deoria\n",
            "✅ Indore: 32.1°C, scattered clouds\n",
            "✅ Bhopal: 32.13°C, broken clouds\n",
            "✅ Deoria: 39.27°C, broken clouds\n",
            "\n",
            "📄 Weather data appended to weather_data.csv\n"
          ]
        }
      ],
      "source": [
        "import requests\n",
        "import pandas as pd\n",
        "from datetime import datetime\n",
        "import os\n",
        "\n",
        "API_KEY = \"540da8846e3bf6f72ab9f1c9d849f655\"  # use working key\n",
        "\n",
        "def get_weather(city):\n",
        "    url = f\"http://api.openweathermap.org/data/2.5/weather?q={city}&appid={API_KEY}&units=metric\"\n",
        "    response = requests.get(url)\n",
        "\n",
        "    if response.status_code == 200:\n",
        "        data = response.json()\n",
        "        return {\n",
        "            'City': city.title(),\n",
        "            'Temperature (°C)': data['main']['temp'],\n",
        "            'Feels Like (°C)': data['main']['feels_like'],\n",
        "            'Weather': data['weather'][0]['description'],\n",
        "            'Humidity (%)': data['main']['humidity'],\n",
        "            'Wind Speed (m/s)': data['wind']['speed'],\n",
        "            'Timestamp': datetime.now().strftime(\"%Y-%m-%d %H:%M:%S\")\n",
        "        }\n",
        "    else:\n",
        "        print(f\"❌ Failed for {city}: {response.status_code}\")\n",
        "        return None\n",
        "\n",
        "# --- Input multiple cities ---\n",
        "cities = input(\"Enter cities separated by commas (e.g., Delhi,Mumbai,Bangalore): \").split(',')\n",
        "\n",
        "weather_data_list = []\n",
        "\n",
        "for city in cities:\n",
        "    city = city.strip()\n",
        "    weather = get_weather(city)\n",
        "    if weather:\n",
        "        print(f\"✅ {city.title()}: {weather['Temperature (°C)']}°C, {weather['Weather']}\")\n",
        "        weather_data_list.append(weather)\n",
        "\n",
        "# --- Save to CSV (append) ---\n",
        "if weather_data_list:\n",
        "    df = pd.DataFrame(weather_data_list)\n",
        "    file_path = \"weather_data.csv\"\n",
        "    header = not os.path.exists(file_path)\n",
        "    df.to_csv(file_path, mode='a', header=header, index=False)\n",
        "    print(f\"\\n📄 Weather data appended to {file_path}\")\n"
      ]
    }
  ]
}